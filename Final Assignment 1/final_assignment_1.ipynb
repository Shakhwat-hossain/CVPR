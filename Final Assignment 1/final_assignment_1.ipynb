{
  "nbformat": 4,
  "nbformat_minor": 0,
  "metadata": {
    "colab": {
      "name": "final_assignment_1.ipynb",
      "provenance": []
    },
    "kernelspec": {
      "name": "python3",
      "display_name": "Python 3"
    },
    "language_info": {
      "name": "python"
    }
  },
  "cells": [
    {
      "cell_type": "code",
      "metadata": {
        "id": "44h_3neXz_qK"
      },
      "source": [
        "import tensorflow as tf\n",
        "import os\n",
        "import cv2\n",
        "import random\n",
        "import pickle\n",
        "from tqdm import tqdm\n",
        "import numpy as np\n",
        "import matplotlib.pyplot as plt\n",
        "\n"
      ],
      "execution_count": 49,
      "outputs": []
    },
    {
      "cell_type": "code",
      "metadata": {
        "colab": {
          "base_uri": "https://localhost:8080/"
        },
        "id": "q5NqD_iuPD_m",
        "outputId": "c74eb1be-2193-4cc4-d993-a917533ae5f9"
      },
      "source": [
        "from google.colab import drive\n",
        "drive.mount('/content/drive/')"
      ],
      "execution_count": 50,
      "outputs": [
        {
          "output_type": "stream",
          "name": "stdout",
          "text": [
            "Drive already mounted at /content/drive/; to attempt to forcibly remount, call drive.mount(\"/content/drive/\", force_remount=True).\n"
          ]
        }
      ]
    },
    {
      "cell_type": "code",
      "metadata": {
        "id": "_XYzM5qh1oL1"
      },
      "source": [
        "base_dir='/content/drive/MyDrive/Colab Notebooks/test_set/'"
      ],
      "execution_count": 51,
      "outputs": []
    },
    {
      "cell_type": "code",
      "metadata": {
        "id": "7eRrie2x2bzT"
      },
      "source": [
        "#preprocessing"
      ],
      "execution_count": 52,
      "outputs": []
    },
    {
      "cell_type": "code",
      "metadata": {
        "id": "dHPUFqyA2eUS"
      },
      "source": [
        "IMAGE_SIZE = 224\n",
        "BATCH_SIZE = 64\n",
        "\n",
        "train_datagen= tf.keras.preprocessing.image.ImageDataGenerator(\n",
        "    \n",
        "    rescale = 1./255,\n",
        "    zoom_range = 0.2,\n",
        "    horizontal_flip = True,\n",
        "    validation_split = 0.1)\n",
        "\n",
        "validation_datagen = tf.keras.preprocessing.image.ImageDataGenerator(\n",
        "    rescale = 1./255,\n",
        "    validation_split = 0.1 \n",
        ")\n",
        "\n"
      ],
      "execution_count": 53,
      "outputs": []
    },
    {
      "cell_type": "code",
      "metadata": {
        "colab": {
          "base_uri": "https://localhost:8080/"
        },
        "id": "FuhEloef_r3c",
        "outputId": "750bf217-bc64-4700-bfec-ed4646522079"
      },
      "source": [
        "train_generator = train_datagen.flow_from_directory(\n",
        "    base_dir,\n",
        "    target_size=(IMAGE_SIZE, IMAGE_SIZE),\n",
        "    batch_size = BATCH_SIZE,\n",
        "    subset='training'\n",
        "\n",
        ")\n",
        "validation_generator = validation_datagen.flow_from_directory(\n",
        "    base_dir,\n",
        "    target_size = (IMAGE_SIZE, IMAGE_SIZE),\n",
        "    batch_size = BATCH_SIZE,\n",
        "    subset = 'validation'\n",
        ")"
      ],
      "execution_count": 54,
      "outputs": [
        {
          "output_type": "stream",
          "name": "stdout",
          "text": [
            "Found 1821 images belonging to 2 classes.\n",
            "Found 202 images belonging to 2 classes.\n"
          ]
        }
      ]
    },
    {
      "cell_type": "code",
      "metadata": {
        "id": "Ot2uvxrqLSM9"
      },
      "source": [
        "from tensorflow.keras.layers import Input,Flatten,Dense\n",
        "from tensorflow.keras.models import Model\n",
        "from tensorflow.keras.applications.vgg16 import VGG16\n",
        "from tensorflow.keras.models import Sequential\n",
        "from glob import glob"
      ],
      "execution_count": 55,
      "outputs": []
    },
    {
      "cell_type": "code",
      "metadata": {
        "colab": {
          "base_uri": "https://localhost:8080/"
        },
        "id": "-HQ0-Ry1MayA",
        "outputId": "8887a277-9f6d-4b99-e561-521f0cd1593a"
      },
      "source": [
        "IMAGE_SIZE=[224,224]\n",
        "vgg= VGG16(input_shape=IMAGE_SIZE+[3],weights='imagenet',include_top=False)\n",
        "vgg.output"
      ],
      "execution_count": 56,
      "outputs": [
        {
          "output_type": "execute_result",
          "data": {
            "text/plain": [
              "<KerasTensor: shape=(None, 7, 7, 512) dtype=float32 (created by layer 'block5_pool')>"
            ]
          },
          "metadata": {},
          "execution_count": 56
        }
      ]
    },
    {
      "cell_type": "code",
      "metadata": {
        "id": "zwe3RdZURPwE"
      },
      "source": [
        "for layer in vgg.layers:\n",
        "  layer.trainable=False"
      ],
      "execution_count": 57,
      "outputs": []
    },
    {
      "cell_type": "code",
      "metadata": {
        "colab": {
          "base_uri": "https://localhost:8080/"
        },
        "id": "HgQY1RuwR261",
        "outputId": "6d451ef9-9af4-42f4-ed6e-c7b5dcaacc61"
      },
      "source": [
        "folders=glob('/content/drive/MyDrive/Colab Notebooks/test_set/*')\n",
        "print(len(folders))"
      ],
      "execution_count": 58,
      "outputs": [
        {
          "output_type": "stream",
          "name": "stdout",
          "text": [
            "2\n"
          ]
        }
      ]
    },
    {
      "cell_type": "code",
      "metadata": {
        "colab": {
          "base_uri": "https://localhost:8080/"
        },
        "id": "iCewqzg6RmXm",
        "outputId": "8c961665-30be-4998-a6be-e8536efe6657"
      },
      "source": [
        "x=Flatten()(vgg.output)\n",
        "prediction= Dense(len(folders),activation='softmax')(x)\n",
        "model= Model(inputs=vgg.input,outputs=prediction)\n",
        "model.summary()\n"
      ],
      "execution_count": 60,
      "outputs": [
        {
          "output_type": "stream",
          "name": "stdout",
          "text": [
            "Model: \"model\"\n",
            "_________________________________________________________________\n",
            "Layer (type)                 Output Shape              Param #   \n",
            "=================================================================\n",
            "input_3 (InputLayer)         [(None, 224, 224, 3)]     0         \n",
            "_________________________________________________________________\n",
            "block1_conv1 (Conv2D)        (None, 224, 224, 64)      1792      \n",
            "_________________________________________________________________\n",
            "block1_conv2 (Conv2D)        (None, 224, 224, 64)      36928     \n",
            "_________________________________________________________________\n",
            "block1_pool (MaxPooling2D)   (None, 112, 112, 64)      0         \n",
            "_________________________________________________________________\n",
            "block2_conv1 (Conv2D)        (None, 112, 112, 128)     73856     \n",
            "_________________________________________________________________\n",
            "block2_conv2 (Conv2D)        (None, 112, 112, 128)     147584    \n",
            "_________________________________________________________________\n",
            "block2_pool (MaxPooling2D)   (None, 56, 56, 128)       0         \n",
            "_________________________________________________________________\n",
            "block3_conv1 (Conv2D)        (None, 56, 56, 256)       295168    \n",
            "_________________________________________________________________\n",
            "block3_conv2 (Conv2D)        (None, 56, 56, 256)       590080    \n",
            "_________________________________________________________________\n",
            "block3_conv3 (Conv2D)        (None, 56, 56, 256)       590080    \n",
            "_________________________________________________________________\n",
            "block3_pool (MaxPooling2D)   (None, 28, 28, 256)       0         \n",
            "_________________________________________________________________\n",
            "block4_conv1 (Conv2D)        (None, 28, 28, 512)       1180160   \n",
            "_________________________________________________________________\n",
            "block4_conv2 (Conv2D)        (None, 28, 28, 512)       2359808   \n",
            "_________________________________________________________________\n",
            "block4_conv3 (Conv2D)        (None, 28, 28, 512)       2359808   \n",
            "_________________________________________________________________\n",
            "block4_pool (MaxPooling2D)   (None, 14, 14, 512)       0         \n",
            "_________________________________________________________________\n",
            "block5_conv1 (Conv2D)        (None, 14, 14, 512)       2359808   \n",
            "_________________________________________________________________\n",
            "block5_conv2 (Conv2D)        (None, 14, 14, 512)       2359808   \n",
            "_________________________________________________________________\n",
            "block5_conv3 (Conv2D)        (None, 14, 14, 512)       2359808   \n",
            "_________________________________________________________________\n",
            "block5_pool (MaxPooling2D)   (None, 7, 7, 512)         0         \n",
            "_________________________________________________________________\n",
            "flatten_1 (Flatten)          (None, 25088)             0         \n",
            "_________________________________________________________________\n",
            "dense_1 (Dense)              (None, 2)                 50178     \n",
            "=================================================================\n",
            "Total params: 14,764,866\n",
            "Trainable params: 50,178\n",
            "Non-trainable params: 14,714,688\n",
            "_________________________________________________________________\n"
          ]
        }
      ]
    },
    {
      "cell_type": "code",
      "metadata": {
        "id": "0owMUtx1T9U0"
      },
      "source": [
        "model.compile(loss='binary_crossentropy', optimizer ='adam', metrics= ['accuracy'])\n"
      ],
      "execution_count": 63,
      "outputs": []
    },
    {
      "cell_type": "code",
      "metadata": {
        "colab": {
          "base_uri": "https://localhost:8080/"
        },
        "id": "hbPG9FlUUg95",
        "outputId": "74f9f2ba-92d4-4486-fc03-982a520e64d7"
      },
      "source": [
        "epoch =10\n",
        "\n",
        "history= model.fit(train_generator,\n",
        "                   steps_per_epoch= len(train_generator),\n",
        "                   epochs= epoch,\n",
        "                   validation_data =validation_generator,\n",
        "                   validation_steps= len(validation_generator)\n",
        "                   )\n",
        "\n",
        "\n"
      ],
      "execution_count": 64,
      "outputs": [
        {
          "output_type": "stream",
          "name": "stdout",
          "text": [
            "Epoch 1/10\n",
            "29/29 [==============================] - 1087s 37s/step - loss: 0.5675 - accuracy: 0.7479 - val_loss: 0.3534 - val_accuracy: 0.8713\n",
            "Epoch 2/10\n",
            "29/29 [==============================] - 1050s 36s/step - loss: 0.3085 - accuracy: 0.8753 - val_loss: 0.2835 - val_accuracy: 0.8812\n",
            "Epoch 3/10\n",
            "29/29 [==============================] - 1043s 36s/step - loss: 0.2412 - accuracy: 0.9072 - val_loss: 0.2589 - val_accuracy: 0.8911\n",
            "Epoch 4/10\n",
            "29/29 [==============================] - 1044s 36s/step - loss: 0.2119 - accuracy: 0.9237 - val_loss: 0.2584 - val_accuracy: 0.8861\n",
            "Epoch 5/10\n",
            "29/29 [==============================] - 1043s 36s/step - loss: 0.1849 - accuracy: 0.9352 - val_loss: 0.2759 - val_accuracy: 0.8812\n",
            "Epoch 6/10\n",
            "29/29 [==============================] - 1059s 37s/step - loss: 0.1730 - accuracy: 0.9396 - val_loss: 0.2292 - val_accuracy: 0.8762\n",
            "Epoch 7/10\n",
            "29/29 [==============================] - 1074s 37s/step - loss: 0.1510 - accuracy: 0.9539 - val_loss: 0.2258 - val_accuracy: 0.8861\n",
            "Epoch 8/10\n",
            "29/29 [==============================] - 1106s 38s/step - loss: 0.1394 - accuracy: 0.9616 - val_loss: 0.2149 - val_accuracy: 0.8911\n",
            "Epoch 9/10\n",
            "29/29 [==============================] - 1110s 38s/step - loss: 0.1321 - accuracy: 0.9621 - val_loss: 0.2113 - val_accuracy: 0.8812\n",
            "Epoch 10/10\n",
            "29/29 [==============================] - 1085s 38s/step - loss: 0.1295 - accuracy: 0.9599 - val_loss: 0.3002 - val_accuracy: 0.9109\n"
          ]
        }
      ]
    },
    {
      "cell_type": "code",
      "metadata": {
        "id": "x3-wxDm71Go1"
      },
      "source": [
        "#prediction"
      ],
      "execution_count": null,
      "outputs": []
    },
    {
      "cell_type": "code",
      "metadata": {
        "colab": {
          "base_uri": "https://localhost:8080/"
        },
        "id": "f9Q5JwS91Vun",
        "outputId": "b39b8687-d0a4-4532-f956-f6efc0759549"
      },
      "source": [
        "from keras.preprocessing import image\n",
        "\n",
        "\n",
        "img_pred=image.load_img('/content/drive/MyDrive/Colab Notebooks/test_set/dogs/dog.4958.jpg',target_size=(224,224))\n",
        "img_pred=image.img_to_array(img_pred)\n",
        "img_pred=np.expand_dims(img_pred, axis=0)\n",
        "\n",
        "result= model.predict(img_pred)\n",
        "\n",
        "print(result)\n",
        "if result[0][0]>result[0][1]:\n",
        "  prediction=\"cat\"\n",
        "else:\n",
        "    prediction=\"dog\"\n",
        "    print(prediction)\n"
      ],
      "execution_count": 85,
      "outputs": [
        {
          "output_type": "stream",
          "name": "stdout",
          "text": [
            "[[0. 1.]]\n",
            "dog\n"
          ]
        }
      ]
    }
  ]
}