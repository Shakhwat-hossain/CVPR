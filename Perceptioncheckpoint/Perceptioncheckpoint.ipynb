{
 "cells": [
  {
   "cell_type": "code",
   "execution_count": 1,
   "metadata": {},
   "outputs": [],
   "source": [
    "import pandas as pd\n",
    "import numpy as np\n",
    "import matplotlib.pyplot as plt\n",
    "import math\n",
    "import random\n",
    "from IPython import display\n",
    "from scipy.signal import savgol_filter"
   ]
  },
  {
   "cell_type": "code",
   "execution_count": 2,
   "metadata": {},
   "outputs": [
    {
     "data": {
      "text/plain": [
       "'C:\\\\Users\\\\shakh'"
      ]
     },
     "execution_count": 2,
     "metadata": {},
     "output_type": "execute_result"
    }
   ],
   "source": [
    "pwd\n"
   ]
  },
  {
   "cell_type": "code",
   "execution_count": 3,
   "metadata": {},
   "outputs": [
    {
     "data": {
      "text/html": [
       "<div>\n",
       "<style scoped>\n",
       "    .dataframe tbody tr th:only-of-type {\n",
       "        vertical-align: middle;\n",
       "    }\n",
       "\n",
       "    .dataframe tbody tr th {\n",
       "        vertical-align: top;\n",
       "    }\n",
       "\n",
       "    .dataframe thead th {\n",
       "        text-align: right;\n",
       "    }\n",
       "</style>\n",
       "<table border=\"1\" class=\"dataframe\">\n",
       "  <thead>\n",
       "    <tr style=\"text-align: right;\">\n",
       "      <th></th>\n",
       "      <th>x1</th>\n",
       "      <th>x2</th>\n",
       "      <th>y</th>\n",
       "    </tr>\n",
       "  </thead>\n",
       "  <tbody>\n",
       "    <tr>\n",
       "      <th>0</th>\n",
       "      <td>38</td>\n",
       "      <td>66</td>\n",
       "      <td>1</td>\n",
       "    </tr>\n",
       "    <tr>\n",
       "      <th>1</th>\n",
       "      <td>98</td>\n",
       "      <td>82</td>\n",
       "      <td>0</td>\n",
       "    </tr>\n",
       "    <tr>\n",
       "      <th>2</th>\n",
       "      <td>47</td>\n",
       "      <td>89</td>\n",
       "      <td>1</td>\n",
       "    </tr>\n",
       "    <tr>\n",
       "      <th>3</th>\n",
       "      <td>42</td>\n",
       "      <td>53</td>\n",
       "      <td>1</td>\n",
       "    </tr>\n",
       "    <tr>\n",
       "      <th>4</th>\n",
       "      <td>30</td>\n",
       "      <td>34</td>\n",
       "      <td>1</td>\n",
       "    </tr>\n",
       "  </tbody>\n",
       "</table>\n",
       "</div>"
      ],
      "text/plain": [
       "   x1  x2  y\n",
       "0  38  66  1\n",
       "1  98  82  0\n",
       "2  47  89  1\n",
       "3  42  53  1\n",
       "4  30  34  1"
      ]
     },
     "execution_count": 3,
     "metadata": {},
     "output_type": "execute_result"
    }
   ],
   "source": [
    "df = pd.read_csv('E:\\\\CVPR\\\\Assignment\\\\MID\\\\data.csv')\n",
    "df.head()"
   ]
  },
  {
   "cell_type": "code",
   "execution_count": 4,
   "metadata": {},
   "outputs": [
    {
     "name": "stdout",
     "output_type": "stream",
     "text": [
      "[38, 98, 47, 42, 30, 49, 7, 96, 61, 44, 20, 38, 66, 70, 40, 82, 54, 71, 70, 78, 81, 97, 40, 66, 58, 61, 45, 43, 73, 11, 7, 68, 77, 3, 97, 3, 79, 9, 8, 79, 97, 1, 65, 34, 41, 92, 17, 39, 34, 81]\n",
      "[66, 82, 89, 53, 34, 41, 75, 90, 87, 54, 90, 48, 52, 88, 60, 98, 15, 6, 34, 6, 52, 75, 99, 40, 17, 12, 58, 49, 84, 72, 76, 77, 97, 74, 19, 22, 71, 78, 52, 46, 3, 78, 83, 20, 0, 0, 61, 21, 74, 88]\n"
     ]
    },
    {
     "data": {
      "image/png": "[encoded data removed]",
      "text/plain": [
       "<Figure size 432x288 with 1 Axes>"
      ]
     },
     "metadata": {
      "needs_background": "light"
     },
     "output_type": "display_data"
    }
   ],
   "source": [
    "\n",
    "\n",
    "\n",
    "x1 = df['x1'].values.tolist()\n",
    "print(x1)\n",
    "x2 = df['x2'].values.tolist()\n",
    "print(x2)\n",
    "y = df['y'].values.tolist()\n",
    "\n",
    "for i in range(len(y)):\n",
    "    if y[i] == 0:\n",
    "        plt.plot(x1[i], x2[i], \"r+\")\n",
    "    else:\n",
    "        plt.plot(x1[i], x2[i], \"g+\")\n",
    "\n",
    "\n",
    "\n"
   ]
  },
  {
   "cell_type": "code",
   "execution_count": 5,
   "metadata": {},
   "outputs": [
    {
     "data": {
      "image/png": "[encoded data removed]",
      "text/plain": [
       "<Figure size 1440x360 with 2 Axes>"
      ]
     },
     "metadata": {
      "needs_background": "light"
     },
     "output_type": "display_data"
    }
   ],
   "source": [
    "w = [random.random(), random.random()]\n",
    "b = random.random()\n",
    "lr = 0.1\n",
    "theta = 0.5\n",
    "epoch = 0\n",
    "count = 0\n",
    "loss = []\n",
    "\n",
    "while count < len(y):\n",
    "    \n",
    "    total_error = 0\n",
    "    \n",
    "    for i in range(len(y)):\n",
    "        ws = w[0]*x1[i] + w[1]*x2[i] + b\n",
    "        pred = 0\n",
    "        if ws > theta:\n",
    "            pred = 1\n",
    "            \n",
    "        error = y[i] - pred\n",
    "        \n",
    "        if error != 0:\n",
    "            \n",
    "            count = 0\n",
    "            \n",
    "            total_error += math.sqrt(error**2)\n",
    "            \n",
    "            w[0] += lr*error*x1[i]\n",
    "            w[1] += lr*error*x2[i]\n",
    "            b += lr*error\n",
    "            \n",
    "        else:\n",
    "            count += 1\n",
    "            \n",
    "    loss.append(1/len(x1)*total_error)\n",
    "    \n",
    "    grf = plt.figure(figsize=(20,5))\n",
    "    ax =grf.add_subplot(1,2,1)\n",
    "    \n",
    "    display.clear_output(wait=True)\n",
    "    \n",
    "    for i in range(len(y)):\n",
    "        if y[i] == 0:\n",
    "            plt.plot(x1[i], x2[i], 'r*')\n",
    "        else:\n",
    "            plt.plot(x1[i], x2[i], 'g+')\n",
    "        \n",
    "        plt.xlim([2,120])\n",
    "        plt.ylim([2,120])\n",
    "        \n",
    "        xint = (theta-b)/ w[0]\n",
    "        yint = (theta-b)/ w[1]\n",
    "        slope = -yint/xint\n",
    "        X = plt.xlim()\n",
    "        Y = []\n",
    "        for i in X:\n",
    "            Y.append(slope*i + yint)\n",
    "            \n",
    "    plt.plot(X,Y, 'b-')\n",
    "    \n",
    "    plt.title(f\"Epoch: {epoch} Loss: {total_error}\")\n",
    "    plt.subplot(1,2,2)\n",
    "    plt.plot(loss)\n",
    "    if epoch > 20:\n",
    "        avg = savgol_filter(loss, 15, 3)\n",
    "        plt.plot(avg, 'r--', lw=5)\n",
    "    \n",
    "    plt.ylim([0,0.5])\n",
    "    plt.show()\n",
    "    epoch += 1"
   ]
  },
  {
   "cell_type": "code",
   "execution_count": null,
   "metadata": {},
   "outputs": [],
   "source": []
  },
  {
   "cell_type": "code",
   "execution_count": null,
   "metadata": {},
   "outputs": [],
   "source": []
  },
  {
   "cell_type": "code",
   "execution_count": null,
   "metadata": {},
   "outputs": [],
   "source": []
  },
  {
   "cell_type": "code",
   "execution_count": null,
   "metadata": {},
   "outputs": [],
   "source": []
  },
  {
   "cell_type": "code",
   "execution_count": null,
   "metadata": {},
   "outputs": [],
   "source": []
  },
  {
   "cell_type": "code",
   "execution_count": null,
   "metadata": {},
   "outputs": [],
   "source": []
  }
 ],
 "metadata": {
  "kernelspec": {
   "display_name": "Python 3",
   "language": "python",
   "name": "python3"
  },
  "language_info": {
   "codemirror_mode": {
    "name": "ipython",
    "version": 3
   },
   "file_extension": ".py",
   "mimetype": "text/x-python",
   "name": "python",
   "nbconvert_exporter": "python",
   "pygments_lexer": "ipython3",
   "version": "3.8.5"
  }
 },
 "nbformat": 4,
 "nbformat_minor": 4
}
